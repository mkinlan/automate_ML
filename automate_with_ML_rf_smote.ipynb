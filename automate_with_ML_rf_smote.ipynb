{
 "cells": [
  {
   "metadata": {},
   "cell_type": "markdown",
   "source": [
    "# Automating Spreadsheet Mapping with Machine Learning\n",
    "\n",
    "Imagine you have a spreadsheet of department information that you download from Corporate every quarter. Your job is to map these departments to specific audit categories and teams. You've been doing this so long that it's second nature. It doesn't take much time; typically there are only a handful of new departments every quarter. Easy peasy!\n",
    "\n",
    "Unfortunately, your manager now wants this mapping to be completed weekly, instead of quarterly. Additionally, your company is making several major acquisitions, which will mean many more new departments. This will take considerably more time to do by hand, and will be tedious to boot. \n",
    "\n",
    "Is there a way to automate this? \n",
    "\n",
    "You know that the departments align to regions and teams in a logical way, but you've never actually needed to write out the rules behind this mapping. Could you use machine learning to learn your unwritten mapping rules?\n",
    "\n",
    "Let's see! "
   ],
   "id": "619447b5093a37db"
  },
  {
   "metadata": {},
   "cell_type": "markdown",
   "source": [
    "### Getting Started\n",
    "\n",
    "We'll start by importing a number of Python modules and loading the Excel file of our department information,"
   ],
   "id": "415f402b7f8c72ab"
  },
  {
   "metadata": {
    "ExecuteTime": {
     "end_time": "2024-10-16T18:07:10.603334Z",
     "start_time": "2024-10-16T18:07:10.542476Z"
    }
   },
   "cell_type": "code",
   "source": [
    "import pandas as pd\n",
    "from sklearn.model_selection import train_test_split\n",
    "from sklearn.feature_extraction.text import TfidfVectorizer\n",
    "from sklearn.ensemble import RandomForestClassifier\n",
    "from sklearn.compose import ColumnTransformer\n",
    "from imblearn.over_sampling import SMOTE\n",
    "from imblearn.pipeline import Pipeline as imbpipeline\n",
    "from sklearn.metrics import classification_report\n",
    "from sklearn.base import BaseEstimator\n",
    "import joblib\n",
    "\n",
    "# Load data\n",
    "input_file = '/Users/mkinlan/Desktop/hierarchy.xlsx'\n",
    "df = pd.read_excel(input_file)\n",
    "\n",
    "#Print the shape of the dataframe\n",
    "print(\"Shape of the dataframe:\", df.shape)\n",
    "\n",
    "df.head()"
   ],
   "id": "28d628af64deb4fd",
   "outputs": [
    {
     "name": "stdout",
     "output_type": "stream",
     "text": [
      "Shape of the dataframe: (110, 7)\n"
     ]
    },
    {
     "data": {
      "text/plain": [
       "   DEPT_NUM                 DEPT_NAME  \\\n",
       "0         1         Human_Resources_1   \n",
       "1         2                 Finance_1   \n",
       "2         3  Information_Technology_1   \n",
       "3         4               Marketing_1   \n",
       "4         5                   Sales_1   \n",
       "\n",
       "                            COMP_OFFICE_SERVICE  \\\n",
       "0     ABC_Corp.Headquarters.Employee_Onboarding   \n",
       "1        ABC_Corp.Headquarters.Accounts_Payable   \n",
       "2           ABC_Corp.Tech_Hub.Technical_Support   \n",
       "3         ABC_Corp.Marketing_Office.Advertising   \n",
       "4  ABC_Corp.Sales_Department.Customer_Relations   \n",
       "\n",
       "                        REG_PROGRAM    REGION AUDIT_CAT        TEAM  \n",
       "0  North_America.Onboarding_Program  REGION_1     CAT_B    RED_TEAM  \n",
       "1       Europe.Financial_Management  REGION_1     CAT_B    RED_TEAM  \n",
       "2         Asia.Tech_Support_Program  REGION_3     CAT_C  GREEN_TEAM  \n",
       "3        South_America.Ad_Campaigns  REGION_2     CAT_A    RED_TEAM  \n",
       "4        Africa.Customer_Engagement  REGION_3     CAT_C    RED_TEAM  "
      ],
      "text/html": [
       "<div>\n",
       "<style scoped>\n",
       "    .dataframe tbody tr th:only-of-type {\n",
       "        vertical-align: middle;\n",
       "    }\n",
       "\n",
       "    .dataframe tbody tr th {\n",
       "        vertical-align: top;\n",
       "    }\n",
       "\n",
       "    .dataframe thead th {\n",
       "        text-align: right;\n",
       "    }\n",
       "</style>\n",
       "<table border=\"1\" class=\"dataframe\">\n",
       "  <thead>\n",
       "    <tr style=\"text-align: right;\">\n",
       "      <th></th>\n",
       "      <th>DEPT_NUM</th>\n",
       "      <th>DEPT_NAME</th>\n",
       "      <th>COMP_OFFICE_SERVICE</th>\n",
       "      <th>REG_PROGRAM</th>\n",
       "      <th>REGION</th>\n",
       "      <th>AUDIT_CAT</th>\n",
       "      <th>TEAM</th>\n",
       "    </tr>\n",
       "  </thead>\n",
       "  <tbody>\n",
       "    <tr>\n",
       "      <th>0</th>\n",
       "      <td>1</td>\n",
       "      <td>Human_Resources_1</td>\n",
       "      <td>ABC_Corp.Headquarters.Employee_Onboarding</td>\n",
       "      <td>North_America.Onboarding_Program</td>\n",
       "      <td>REGION_1</td>\n",
       "      <td>CAT_B</td>\n",
       "      <td>RED_TEAM</td>\n",
       "    </tr>\n",
       "    <tr>\n",
       "      <th>1</th>\n",
       "      <td>2</td>\n",
       "      <td>Finance_1</td>\n",
       "      <td>ABC_Corp.Headquarters.Accounts_Payable</td>\n",
       "      <td>Europe.Financial_Management</td>\n",
       "      <td>REGION_1</td>\n",
       "      <td>CAT_B</td>\n",
       "      <td>RED_TEAM</td>\n",
       "    </tr>\n",
       "    <tr>\n",
       "      <th>2</th>\n",
       "      <td>3</td>\n",
       "      <td>Information_Technology_1</td>\n",
       "      <td>ABC_Corp.Tech_Hub.Technical_Support</td>\n",
       "      <td>Asia.Tech_Support_Program</td>\n",
       "      <td>REGION_3</td>\n",
       "      <td>CAT_C</td>\n",
       "      <td>GREEN_TEAM</td>\n",
       "    </tr>\n",
       "    <tr>\n",
       "      <th>3</th>\n",
       "      <td>4</td>\n",
       "      <td>Marketing_1</td>\n",
       "      <td>ABC_Corp.Marketing_Office.Advertising</td>\n",
       "      <td>South_America.Ad_Campaigns</td>\n",
       "      <td>REGION_2</td>\n",
       "      <td>CAT_A</td>\n",
       "      <td>RED_TEAM</td>\n",
       "    </tr>\n",
       "    <tr>\n",
       "      <th>4</th>\n",
       "      <td>5</td>\n",
       "      <td>Sales_1</td>\n",
       "      <td>ABC_Corp.Sales_Department.Customer_Relations</td>\n",
       "      <td>Africa.Customer_Engagement</td>\n",
       "      <td>REGION_3</td>\n",
       "      <td>CAT_C</td>\n",
       "      <td>RED_TEAM</td>\n",
       "    </tr>\n",
       "  </tbody>\n",
       "</table>\n",
       "</div>"
      ]
     },
     "execution_count": 35,
     "metadata": {},
     "output_type": "execute_result"
    }
   ],
   "execution_count": 35
  },
  {
   "metadata": {},
   "cell_type": "markdown",
   "source": [
    "The target columns that you want to predict will be the AUDIT_CAT (aka audit category) and TEAM columns. \n",
    "\n",
    "Although you've never written down the rules for creating these columns, you know which other columns affect them. You remember that the values for AUDIT_CAT depend primarily on the values for COMP_OFFICE_SERVICE (aka company, office, service) and that the values for TEAM depend on the data in the REGION and COMP_OFFICE_SERVICE columns.\n",
    "\n",
    "This means we can disregard most of the other columns for the predictive model. We'll start by separating our desired columns into targets and features, then doing some light cleaning:"
   ],
   "id": "e399d948181758a"
  },
  {
   "metadata": {},
   "cell_type": "markdown",
   "source": "Let's keep the DEPT_NUM column in the list of features, even though it's not really a predictor. That will help us keep track of which department is which.",
   "id": "e1b3a01b8c09deb4"
  },
  {
   "metadata": {
    "ExecuteTime": {
     "end_time": "2024-10-16T18:07:15.883920Z",
     "start_time": "2024-10-16T18:07:15.875094Z"
    }
   },
   "cell_type": "code",
   "source": [
    "# Features and targets\n",
    "X = df[['DEPT_NUM','COMP_OFFICE_SERVICE', 'REGION']]\n",
    "y = df[['AUDIT_CAT', 'TEAM']]\n",
    "\n",
    "# Ensure all relevant columns are treated as strings\n",
    "X = X.astype(str)\n",
    "y = y.astype(str)\n",
    "\n",
    "# Handle missing values\n",
    "X = X.fillna('')\n",
    "y = y.fillna('')"
   ],
   "id": "6092de8f21eeb452",
   "outputs": [],
   "execution_count": 36
  },
  {
   "metadata": {},
   "cell_type": "markdown",
   "source": [
    "### Pipelines\n",
    "\n",
    "Next, we'll create several pipelines to process the data for the model. We'll make one pipeline for the AUDIT_CAT column:"
   ],
   "id": "730b3d65220d4884"
  },
  {
   "metadata": {
    "ExecuteTime": {
     "end_time": "2024-10-16T18:07:19.151115Z",
     "start_time": "2024-10-16T18:07:19.147523Z"
    }
   },
   "cell_type": "code",
   "source": [
    "#pipeline using imblearn, not sklearn Pipeline\n",
    "pipeline_audit_cat = imbpipeline([\n",
    "    ('vectorizer', TfidfVectorizer()),\n",
    "    ('sm',  SMOTE()),\n",
    "    ('classifier', RandomForestClassifier())\n",
    "])"
   ],
   "id": "307c0841d0127bbb",
   "outputs": [],
   "execution_count": 37
  },
  {
   "metadata": {},
   "cell_type": "markdown",
   "source": [
    "The first step in the pipeline is to convert the text data from the column into numeric data using TfidfVectorizer. After the data has been converted to numeric values, we use the SMOTE algorithm to adjust for class imbalance. The AUDIT_CAT column can have one of 4 possible values (CAT_A, CAT_B, CAT_C, or CAT_D). There may not be enough values in each of these 4 classes for the model to learn well, so we'll mitigate this by using SMOTE to synthesize data from the minority class(es).\n",
    "\n",
    "The final pipeline step is a RandomForestClassifier function. This will classify each observation (aka department) into one of the 4 classes using the Random Forest algorithm."
   ],
   "id": "36bd9506787ce25b"
  },
  {
   "metadata": {},
   "cell_type": "markdown",
   "source": "We'll make a separate pipeline for the TEAM column. Since this target column will be predicted by two features instead of one, it's a little more complex.  We'll break out the TfidifVectorizer step into a separate preprocessing pipeline to make sure it vectorizes each feature correctly. Then we'll take the results of that pipeline and pass them into the main pipeline for the target column:",
   "id": "485ea3e584f64f65"
  },
  {
   "metadata": {
    "ExecuteTime": {
     "end_time": "2024-10-16T18:07:23.003399Z",
     "start_time": "2024-10-16T18:07:22.997787Z"
    }
   },
   "cell_type": "code",
   "source": [
    "\n",
    "#Use ColumnTransformer to apply TfidfVectorizer to each text column separately for TEAM\n",
    "preprocessor_team = ColumnTransformer(\n",
    "    transformers=[\n",
    "        ('comp', TfidfVectorizer(), 'COMP_OFFICE_SERVICE'),\n",
    "        ('reg', TfidfVectorizer(), 'REGION')\n",
    "    ]\n",
    ")\n",
    "\n",
    "pipeline_team = imbpipeline([\n",
    "    ('preprocessor', preprocessor_team),\n",
    "    ('sm',  SMOTE()),\n",
    "    ('classifier', RandomForestClassifier())\n",
    "])\n"
   ],
   "id": "c8faca9168d565d2",
   "outputs": [],
   "execution_count": 38
  },
  {
   "metadata": {},
   "cell_type": "markdown",
   "source": [
    "Now that we've created the pipelines, we need to split up our data into training and test sets so we can run the training data through our new pipelines.\n",
    "\n",
    "We'll do a train/test/split to split up our data into 80% training, 20% test data, and take a look at it:"
   ],
   "id": "4fec79f62ffdce03"
  },
  {
   "metadata": {
    "ExecuteTime": {
     "end_time": "2024-10-16T18:07:26.142451Z",
     "start_time": "2024-10-16T18:07:26.131128Z"
    }
   },
   "cell_type": "code",
   "source": [
    "# Train-test split\n",
    "X_train, X_test, y_train, y_test = train_test_split(X, y, test_size=0.20, random_state=42)\n",
    "\n",
    "#Print the shapes of resampled X_train and y_train\n",
    "print(\"Shape of X_train:\", X_train.shape)\n",
    "print(\"Shape of y_train:\", y_train.shape)"
   ],
   "id": "1ed956a974f2ba94",
   "outputs": [
    {
     "name": "stdout",
     "output_type": "stream",
     "text": [
      "Shape of X_train: (88, 3)\n",
      "Shape of y_train: (88, 2)\n"
     ]
    }
   ],
   "execution_count": 39
  },
  {
   "metadata": {
    "ExecuteTime": {
     "end_time": "2024-10-16T18:07:27.143557Z",
     "start_time": "2024-10-16T18:07:27.136043Z"
    }
   },
   "cell_type": "code",
   "source": [
    "#check out the training data just to be sure it's right\n",
    "print(y_train.head())\n",
    "print(X_train.head())"
   ],
   "id": "9c792197b26d5ccc",
   "outputs": [
    {
     "name": "stdout",
     "output_type": "stream",
     "text": [
      "   AUDIT_CAT        TEAM\n",
      "65     CAT_A    RED_TEAM\n",
      "26     CAT_A   BLUE_TEAM\n",
      "22     CAT_C  GREEN_TEAM\n",
      "31     CAT_B    RED_TEAM\n",
      "47     CAT_B    RED_TEAM\n",
      "   DEPT_NUM                          COMP_OFFICE_SERVICE    REGION\n",
      "65       66      ABC_Corp.R&D_Center.Product_Development  REGION_3\n",
      "26       27  ABC_Corp.Call_Center.Call_Center_Operations  REGION_1\n",
      "22       23          ABC_Corp.Tech_Hub.Technical_Support  REGION_3\n",
      "31       32       ABC_Corp.Headquarters.Accounts_Payable  REGION_1\n",
      "47       48               ABC_Corp.Legal_Dept.Compliance  REGION_1\n"
     ]
    }
   ],
   "execution_count": 40
  },
  {
   "metadata": {},
   "cell_type": "markdown",
   "source": [
    "### Training the Model(s)\n",
    "\n",
    "Now it's time to run the training data through both pipelines and get our predictions!"
   ],
   "id": "f8d8291cfdf55ab5"
  },
  {
   "metadata": {
    "ExecuteTime": {
     "end_time": "2024-10-16T18:07:31.384717Z",
     "start_time": "2024-10-16T18:07:31.234827Z"
    }
   },
   "cell_type": "code",
   "source": [
    "# Train both pipelines\n",
    "pipeline_audit_cat.fit(X_train['COMP_OFFICE_SERVICE'], y_train['AUDIT_CAT'])  \n",
    "pipeline_team.fit(X_train[['COMP_OFFICE_SERVICE', 'REGION']], y_train['TEAM'])\n"
   ],
   "id": "114f18c225f2be48",
   "outputs": [
    {
     "data": {
      "text/plain": [
       "Pipeline(steps=[('preprocessor',\n",
       "                 ColumnTransformer(transformers=[('comp', TfidfVectorizer(),\n",
       "                                                  'COMP_OFFICE_SERVICE'),\n",
       "                                                 ('reg', TfidfVectorizer(),\n",
       "                                                  'REGION')])),\n",
       "                ('sm', SMOTE()), ('classifier', RandomForestClassifier())])"
      ]
     },
     "execution_count": 41,
     "metadata": {},
     "output_type": "execute_result"
    }
   ],
   "execution_count": 41
  },
  {
   "metadata": {
    "ExecuteTime": {
     "end_time": "2024-10-16T18:07:34.101902Z",
     "start_time": "2024-10-16T18:07:34.088704Z"
    }
   },
   "cell_type": "code",
   "source": [
    "#Get predictions for AUDIT_CAT column\n",
    "y_pred_audit_cat = pipeline_audit_cat.predict(X_test['COMP_OFFICE_SERVICE'])  # predicting AUDIT_CAT column"
   ],
   "id": "a8238340aee4395",
   "outputs": [],
   "execution_count": 42
  },
  {
   "metadata": {
    "ExecuteTime": {
     "end_time": "2024-10-16T18:07:34.978828Z",
     "start_time": "2024-10-16T18:07:34.965383Z"
    }
   },
   "cell_type": "code",
   "source": [
    "#Get predictions for TEAM column\n",
    "y_pred_team = pipeline_team.predict(X_test[['COMP_OFFICE_SERVICE', 'REGION']]) #predicting TEAM column\n"
   ],
   "id": "a6347897cd21fbb2",
   "outputs": [],
   "execution_count": 43
  },
  {
   "metadata": {
    "ExecuteTime": {
     "end_time": "2024-10-16T18:07:37.219212Z",
     "start_time": "2024-10-16T18:07:37.208869Z"
    }
   },
   "cell_type": "code",
   "source": [
    "#Check the predictions. How were they? \n",
    "audit_cat_report = classification_report(y_test['AUDIT_CAT'], y_pred_audit_cat, labels=y['AUDIT_CAT'].unique(),\n",
    "                                           target_names=y['AUDIT_CAT'].unique())\n",
    "print(\"Classification report for test data set for AUDIT_CAT:\", audit_cat_report)"
   ],
   "id": "e71cdf250346dec0",
   "outputs": [
    {
     "name": "stdout",
     "output_type": "stream",
     "text": [
      "Classification report for test data set for AUDIT_CAT:               precision    recall  f1-score   support\n",
      "\n",
      "       CAT_B       1.00      1.00      1.00        11\n",
      "       CAT_C       1.00      1.00      1.00         7\n",
      "       CAT_A       1.00      1.00      1.00         4\n",
      "\n",
      "    accuracy                           1.00        22\n",
      "   macro avg       1.00      1.00      1.00        22\n",
      "weighted avg       1.00      1.00      1.00        22\n",
      "\n"
     ]
    }
   ],
   "execution_count": 44
  },
  {
   "metadata": {
    "ExecuteTime": {
     "end_time": "2024-10-16T18:07:38.218676Z",
     "start_time": "2024-10-16T18:07:38.209161Z"
    }
   },
   "cell_type": "code",
   "source": [
    "team_report = classification_report(y_test['TEAM'], y_pred_team, labels=y['TEAM'].unique(),\n",
    "                                    target_names=y['TEAM'].unique())\n",
    "print(\"Classification report for test data set for TEAM:\", team_report)"
   ],
   "id": "9ee1b0a19309e26b",
   "outputs": [
    {
     "name": "stdout",
     "output_type": "stream",
     "text": [
      "Classification report for test data set for TEAM:               precision    recall  f1-score   support\n",
      "\n",
      "    RED_TEAM       1.00      1.00      1.00        16\n",
      "  GREEN_TEAM       1.00      1.00      1.00         3\n",
      "   BLUE_TEAM       1.00      1.00      1.00         3\n",
      "\n",
      "    accuracy                           1.00        22\n",
      "   macro avg       1.00      1.00      1.00        22\n",
      "weighted avg       1.00      1.00      1.00        22\n",
      "\n"
     ]
    }
   ],
   "execution_count": 45
  },
  {
   "metadata": {},
   "cell_type": "markdown",
   "source": [
    "### Combine and Pickle It!\n",
    "\n",
    "This was great, but it's not very usable. \n",
    "\n",
    "We've created two separate models, one for each column we want to predict. What if we combined both pipelines into one? Then we would only need to call a single model when we wanted to reuse it on new data.\n",
    "\n",
    "Let's create a class with a function to fit both pipeslines in one go. Then, when we create a new instance of this class and run our fitting function, we'll have the weights for both models saved in one object.\n",
    "\n",
    "We'll throw the metrics information into our class as well:"
   ],
   "id": "c22282319801ee90"
  },
  {
   "metadata": {
    "ExecuteTime": {
     "end_time": "2024-10-16T18:33:41.927480Z",
     "start_time": "2024-10-16T18:33:41.921789Z"
    }
   },
   "cell_type": "code",
   "source": [
    "#Results are good (mostly because we're using dummy data), but we definitely want to save the model for later use. \n",
    "# \n",
    "# Create a class so all models can be combined into one and saved in a serialized pickle file: \n",
    "\n",
    "class Basement(BaseEstimator): #Because the basement is where the pipes are :) \n",
    "    def __init__(self,pipeline_1,pipeline_2):\n",
    "        self.pipeline_1 = pipeline_1\n",
    "        self.pipeline_2 = pipeline_2\n",
    "\n",
    "    def fit_pipes(self,X_train_col1,y_train_col1,X_train_col2,y_train_col2):\n",
    "        # Fit both pipelines\n",
    "        self.pipeline_1.fit(X_train_col1, y_train_col1)  \n",
    "        self.pipeline_2.fit(X_train_col2, y_train_col2)\n",
    "        \n",
    "    def predict_pipes(self,X_test):\n",
    "        y_pred_audit_cat = self.pipeline_1.predict(X_test['COMP_OFFICE_SERVICE'])  # predicting AUDIT_CAT column\n",
    "        y_pred_team = self.pipeline_2.predict(X_test[['COMP_OFFICE_SERVICE', 'REGION']]) #predicting TEAM column\n",
    "        preds = pd.DataFrame({\n",
    "            'AUDIT_CAT': y_pred_audit_cat,\n",
    "            'TEAM': y_pred_team\n",
    "        })\n",
    "        return preds\n",
    "    \n",
    "    def rejoin(self,df,preds):\n",
    "        results = pd.merge(df,preds,left_index=True, right_index=True)\n",
    "        return results\n",
    "        \n"
   ],
   "id": "bb3f3069bbb84a43",
   "outputs": [],
   "execution_count": 70
  },
  {
   "metadata": {},
   "cell_type": "markdown",
   "source": "Looks good! Now let's create a new instance of our class and then save it as a serialized file for later use: ",
   "id": "91dbe37c0c47b916"
  },
  {
   "metadata": {
    "ExecuteTime": {
     "end_time": "2024-10-16T18:33:45.501105Z",
     "start_time": "2024-10-16T18:33:45.354537Z"
    }
   },
   "cell_type": "code",
   "source": [
    "audit_cat_X_train= X_train['COMP_OFFICE_SERVICE']\n",
    "audit_cat_y_train = y_train['AUDIT_CAT']\n",
    "team_X_train = X_train[['COMP_OFFICE_SERVICE', 'REGION']]\n",
    "team_y_train = y_train['TEAM']\n",
    "\n",
    "pipes_model = Basement(pipeline_audit_cat,pipeline_team)\n",
    "pipes_model.fit_pipes(audit_cat_X_train,audit_cat_y_train, team_X_train,team_y_train)\n",
    "predictions = pipes_model.predict_pipes(X_test)\n",
    "print(predictions)"
   ],
   "id": "ac727d110a6ccf42",
   "outputs": [
    {
     "data": {
      "text/plain": [
       "    DEPT_NUM                   DEPT_NAME  \\\n",
       "0          1           Human_Resources_1   \n",
       "1          2                   Finance_1   \n",
       "2          3    Information_Technology_1   \n",
       "3          4                 Marketing_1   \n",
       "4          5                     Sales_1   \n",
       "5          6  Research_and_Development_1   \n",
       "6          7          Customer_Service_1   \n",
       "7          8                     Legal_1   \n",
       "8          9                Operations_1   \n",
       "9         10                 Logistics_1   \n",
       "10        11           Human_Resources_2   \n",
       "11        12                   Finance_2   \n",
       "12        13    Information_Technology_2   \n",
       "13        14                 Marketing_2   \n",
       "14        15                     Sales_2   \n",
       "15        16  Research_and_Development_2   \n",
       "16        17          Customer_Service_2   \n",
       "17        18                     Legal_2   \n",
       "18        19                Operations_2   \n",
       "19        20                 Logistics_2   \n",
       "20        21           Human_Resources_3   \n",
       "21        22                   Finance_3   \n",
       "\n",
       "                               COMP_OFFICE_SERVICE  \\\n",
       "0        ABC_Corp.Headquarters.Employee_Onboarding   \n",
       "1           ABC_Corp.Headquarters.Accounts_Payable   \n",
       "2              ABC_Corp.Tech_Hub.Technical_Support   \n",
       "3            ABC_Corp.Marketing_Office.Advertising   \n",
       "4     ABC_Corp.Sales_Department.Customer_Relations   \n",
       "5          ABC_Corp.R&D_Center.Product_Development   \n",
       "6      ABC_Corp.Call_Center.Call_Center_Operations   \n",
       "7                   ABC_Corp.Legal_Dept.Compliance   \n",
       "8   ABC_Corp.Operations_Office.Supplier_Management   \n",
       "9          ABC_Corp.Warehouse.Warehouse_Management   \n",
       "10       ABC_Corp.Headquarters.Employee_Onboarding   \n",
       "11          ABC_Corp.Headquarters.Accounts_Payable   \n",
       "12             ABC_Corp.Tech_Hub.Technical_Support   \n",
       "13           ABC_Corp.Marketing_Office.Advertising   \n",
       "14    ABC_Corp.Sales_Department.Customer_Relations   \n",
       "15         ABC_Corp.R&D_Center.Product_Development   \n",
       "16     ABC_Corp.Call_Center.Call_Center_Operations   \n",
       "17                  ABC_Corp.Legal_Dept.Compliance   \n",
       "18  ABC_Corp.Operations_Office.Supplier_Management   \n",
       "19         ABC_Corp.Warehouse.Warehouse_Management   \n",
       "20       ABC_Corp.Headquarters.Employee_Onboarding   \n",
       "21          ABC_Corp.Headquarters.Accounts_Payable   \n",
       "\n",
       "                             REG_PROGRAM    REGION AUDIT_CAT_x      TEAM_x  \\\n",
       "0       North_America.Onboarding_Program  REGION_1       CAT_B    RED_TEAM   \n",
       "1            Europe.Financial_Management  REGION_1       CAT_B    RED_TEAM   \n",
       "2              Asia.Tech_Support_Program  REGION_3       CAT_C  GREEN_TEAM   \n",
       "3             South_America.Ad_Campaigns  REGION_2       CAT_A    RED_TEAM   \n",
       "4             Africa.Customer_Engagement  REGION_3       CAT_C    RED_TEAM   \n",
       "5           Australia.Innovation_Program  REGION_3       CAT_A    RED_TEAM   \n",
       "6       North_America.Service_Excellence  REGION_1       CAT_A   BLUE_TEAM   \n",
       "7              Europe.Compliance_Program  REGION_1       CAT_B    RED_TEAM   \n",
       "8           Asia.Supply_Chain_Management  REGION_3       CAT_B    RED_TEAM   \n",
       "9   South_America.Logistics_Optimization  REGION_2       CAT_C    RED_TEAM   \n",
       "10      North_America.Onboarding_Program  REGION_1       CAT_B    RED_TEAM   \n",
       "11           Europe.Financial_Management  REGION_1       CAT_B    RED_TEAM   \n",
       "12             Asia.Tech_Support_Program  REGION_3       CAT_C  GREEN_TEAM   \n",
       "13            South_America.Ad_Campaigns  REGION_2       CAT_A    RED_TEAM   \n",
       "14            Africa.Customer_Engagement  REGION_3       CAT_C    RED_TEAM   \n",
       "15          Australia.Innovation_Program  REGION_3       CAT_A    RED_TEAM   \n",
       "16      North_America.Service_Excellence  REGION_1       CAT_A   BLUE_TEAM   \n",
       "17             Europe.Compliance_Program  REGION_1       CAT_B    RED_TEAM   \n",
       "18          Asia.Supply_Chain_Management  REGION_3       CAT_B    RED_TEAM   \n",
       "19  South_America.Logistics_Optimization  REGION_2       CAT_C    RED_TEAM   \n",
       "20      North_America.Onboarding_Program  REGION_1       CAT_B    RED_TEAM   \n",
       "21           Europe.Financial_Management  REGION_1       CAT_B    RED_TEAM   \n",
       "\n",
       "   AUDIT_CAT_y      TEAM_y  \n",
       "0        CAT_B    RED_TEAM  \n",
       "1        CAT_B    RED_TEAM  \n",
       "2        CAT_C    RED_TEAM  \n",
       "3        CAT_C    RED_TEAM  \n",
       "4        CAT_C    RED_TEAM  \n",
       "5        CAT_B    RED_TEAM  \n",
       "6        CAT_B    RED_TEAM  \n",
       "7        CAT_A    RED_TEAM  \n",
       "8        CAT_A   BLUE_TEAM  \n",
       "9        CAT_B    RED_TEAM  \n",
       "10       CAT_C    RED_TEAM  \n",
       "11       CAT_B    RED_TEAM  \n",
       "12       CAT_B    RED_TEAM  \n",
       "13       CAT_B    RED_TEAM  \n",
       "14       CAT_B    RED_TEAM  \n",
       "15       CAT_B    RED_TEAM  \n",
       "16       CAT_A   BLUE_TEAM  \n",
       "17       CAT_C  GREEN_TEAM  \n",
       "18       CAT_B    RED_TEAM  \n",
       "19       CAT_C  GREEN_TEAM  \n",
       "20       CAT_C  GREEN_TEAM  \n",
       "21       CAT_A   BLUE_TEAM  "
      ],
      "text/html": [
       "<div>\n",
       "<style scoped>\n",
       "    .dataframe tbody tr th:only-of-type {\n",
       "        vertical-align: middle;\n",
       "    }\n",
       "\n",
       "    .dataframe tbody tr th {\n",
       "        vertical-align: top;\n",
       "    }\n",
       "\n",
       "    .dataframe thead th {\n",
       "        text-align: right;\n",
       "    }\n",
       "</style>\n",
       "<table border=\"1\" class=\"dataframe\">\n",
       "  <thead>\n",
       "    <tr style=\"text-align: right;\">\n",
       "      <th></th>\n",
       "      <th>DEPT_NUM</th>\n",
       "      <th>DEPT_NAME</th>\n",
       "      <th>COMP_OFFICE_SERVICE</th>\n",
       "      <th>REG_PROGRAM</th>\n",
       "      <th>REGION</th>\n",
       "      <th>AUDIT_CAT_x</th>\n",
       "      <th>TEAM_x</th>\n",
       "      <th>AUDIT_CAT_y</th>\n",
       "      <th>TEAM_y</th>\n",
       "    </tr>\n",
       "  </thead>\n",
       "  <tbody>\n",
       "    <tr>\n",
       "      <th>0</th>\n",
       "      <td>1</td>\n",
       "      <td>Human_Resources_1</td>\n",
       "      <td>ABC_Corp.Headquarters.Employee_Onboarding</td>\n",
       "      <td>North_America.Onboarding_Program</td>\n",
       "      <td>REGION_1</td>\n",
       "      <td>CAT_B</td>\n",
       "      <td>RED_TEAM</td>\n",
       "      <td>CAT_B</td>\n",
       "      <td>RED_TEAM</td>\n",
       "    </tr>\n",
       "    <tr>\n",
       "      <th>1</th>\n",
       "      <td>2</td>\n",
       "      <td>Finance_1</td>\n",
       "      <td>ABC_Corp.Headquarters.Accounts_Payable</td>\n",
       "      <td>Europe.Financial_Management</td>\n",
       "      <td>REGION_1</td>\n",
       "      <td>CAT_B</td>\n",
       "      <td>RED_TEAM</td>\n",
       "      <td>CAT_B</td>\n",
       "      <td>RED_TEAM</td>\n",
       "    </tr>\n",
       "    <tr>\n",
       "      <th>2</th>\n",
       "      <td>3</td>\n",
       "      <td>Information_Technology_1</td>\n",
       "      <td>ABC_Corp.Tech_Hub.Technical_Support</td>\n",
       "      <td>Asia.Tech_Support_Program</td>\n",
       "      <td>REGION_3</td>\n",
       "      <td>CAT_C</td>\n",
       "      <td>GREEN_TEAM</td>\n",
       "      <td>CAT_C</td>\n",
       "      <td>RED_TEAM</td>\n",
       "    </tr>\n",
       "    <tr>\n",
       "      <th>3</th>\n",
       "      <td>4</td>\n",
       "      <td>Marketing_1</td>\n",
       "      <td>ABC_Corp.Marketing_Office.Advertising</td>\n",
       "      <td>South_America.Ad_Campaigns</td>\n",
       "      <td>REGION_2</td>\n",
       "      <td>CAT_A</td>\n",
       "      <td>RED_TEAM</td>\n",
       "      <td>CAT_C</td>\n",
       "      <td>RED_TEAM</td>\n",
       "    </tr>\n",
       "    <tr>\n",
       "      <th>4</th>\n",
       "      <td>5</td>\n",
       "      <td>Sales_1</td>\n",
       "      <td>ABC_Corp.Sales_Department.Customer_Relations</td>\n",
       "      <td>Africa.Customer_Engagement</td>\n",
       "      <td>REGION_3</td>\n",
       "      <td>CAT_C</td>\n",
       "      <td>RED_TEAM</td>\n",
       "      <td>CAT_C</td>\n",
       "      <td>RED_TEAM</td>\n",
       "    </tr>\n",
       "    <tr>\n",
       "      <th>5</th>\n",
       "      <td>6</td>\n",
       "      <td>Research_and_Development_1</td>\n",
       "      <td>ABC_Corp.R&amp;D_Center.Product_Development</td>\n",
       "      <td>Australia.Innovation_Program</td>\n",
       "      <td>REGION_3</td>\n",
       "      <td>CAT_A</td>\n",
       "      <td>RED_TEAM</td>\n",
       "      <td>CAT_B</td>\n",
       "      <td>RED_TEAM</td>\n",
       "    </tr>\n",
       "    <tr>\n",
       "      <th>6</th>\n",
       "      <td>7</td>\n",
       "      <td>Customer_Service_1</td>\n",
       "      <td>ABC_Corp.Call_Center.Call_Center_Operations</td>\n",
       "      <td>North_America.Service_Excellence</td>\n",
       "      <td>REGION_1</td>\n",
       "      <td>CAT_A</td>\n",
       "      <td>BLUE_TEAM</td>\n",
       "      <td>CAT_B</td>\n",
       "      <td>RED_TEAM</td>\n",
       "    </tr>\n",
       "    <tr>\n",
       "      <th>7</th>\n",
       "      <td>8</td>\n",
       "      <td>Legal_1</td>\n",
       "      <td>ABC_Corp.Legal_Dept.Compliance</td>\n",
       "      <td>Europe.Compliance_Program</td>\n",
       "      <td>REGION_1</td>\n",
       "      <td>CAT_B</td>\n",
       "      <td>RED_TEAM</td>\n",
       "      <td>CAT_A</td>\n",
       "      <td>RED_TEAM</td>\n",
       "    </tr>\n",
       "    <tr>\n",
       "      <th>8</th>\n",
       "      <td>9</td>\n",
       "      <td>Operations_1</td>\n",
       "      <td>ABC_Corp.Operations_Office.Supplier_Management</td>\n",
       "      <td>Asia.Supply_Chain_Management</td>\n",
       "      <td>REGION_3</td>\n",
       "      <td>CAT_B</td>\n",
       "      <td>RED_TEAM</td>\n",
       "      <td>CAT_A</td>\n",
       "      <td>BLUE_TEAM</td>\n",
       "    </tr>\n",
       "    <tr>\n",
       "      <th>9</th>\n",
       "      <td>10</td>\n",
       "      <td>Logistics_1</td>\n",
       "      <td>ABC_Corp.Warehouse.Warehouse_Management</td>\n",
       "      <td>South_America.Logistics_Optimization</td>\n",
       "      <td>REGION_2</td>\n",
       "      <td>CAT_C</td>\n",
       "      <td>RED_TEAM</td>\n",
       "      <td>CAT_B</td>\n",
       "      <td>RED_TEAM</td>\n",
       "    </tr>\n",
       "    <tr>\n",
       "      <th>10</th>\n",
       "      <td>11</td>\n",
       "      <td>Human_Resources_2</td>\n",
       "      <td>ABC_Corp.Headquarters.Employee_Onboarding</td>\n",
       "      <td>North_America.Onboarding_Program</td>\n",
       "      <td>REGION_1</td>\n",
       "      <td>CAT_B</td>\n",
       "      <td>RED_TEAM</td>\n",
       "      <td>CAT_C</td>\n",
       "      <td>RED_TEAM</td>\n",
       "    </tr>\n",
       "    <tr>\n",
       "      <th>11</th>\n",
       "      <td>12</td>\n",
       "      <td>Finance_2</td>\n",
       "      <td>ABC_Corp.Headquarters.Accounts_Payable</td>\n",
       "      <td>Europe.Financial_Management</td>\n",
       "      <td>REGION_1</td>\n",
       "      <td>CAT_B</td>\n",
       "      <td>RED_TEAM</td>\n",
       "      <td>CAT_B</td>\n",
       "      <td>RED_TEAM</td>\n",
       "    </tr>\n",
       "    <tr>\n",
       "      <th>12</th>\n",
       "      <td>13</td>\n",
       "      <td>Information_Technology_2</td>\n",
       "      <td>ABC_Corp.Tech_Hub.Technical_Support</td>\n",
       "      <td>Asia.Tech_Support_Program</td>\n",
       "      <td>REGION_3</td>\n",
       "      <td>CAT_C</td>\n",
       "      <td>GREEN_TEAM</td>\n",
       "      <td>CAT_B</td>\n",
       "      <td>RED_TEAM</td>\n",
       "    </tr>\n",
       "    <tr>\n",
       "      <th>13</th>\n",
       "      <td>14</td>\n",
       "      <td>Marketing_2</td>\n",
       "      <td>ABC_Corp.Marketing_Office.Advertising</td>\n",
       "      <td>South_America.Ad_Campaigns</td>\n",
       "      <td>REGION_2</td>\n",
       "      <td>CAT_A</td>\n",
       "      <td>RED_TEAM</td>\n",
       "      <td>CAT_B</td>\n",
       "      <td>RED_TEAM</td>\n",
       "    </tr>\n",
       "    <tr>\n",
       "      <th>14</th>\n",
       "      <td>15</td>\n",
       "      <td>Sales_2</td>\n",
       "      <td>ABC_Corp.Sales_Department.Customer_Relations</td>\n",
       "      <td>Africa.Customer_Engagement</td>\n",
       "      <td>REGION_3</td>\n",
       "      <td>CAT_C</td>\n",
       "      <td>RED_TEAM</td>\n",
       "      <td>CAT_B</td>\n",
       "      <td>RED_TEAM</td>\n",
       "    </tr>\n",
       "    <tr>\n",
       "      <th>15</th>\n",
       "      <td>16</td>\n",
       "      <td>Research_and_Development_2</td>\n",
       "      <td>ABC_Corp.R&amp;D_Center.Product_Development</td>\n",
       "      <td>Australia.Innovation_Program</td>\n",
       "      <td>REGION_3</td>\n",
       "      <td>CAT_A</td>\n",
       "      <td>RED_TEAM</td>\n",
       "      <td>CAT_B</td>\n",
       "      <td>RED_TEAM</td>\n",
       "    </tr>\n",
       "    <tr>\n",
       "      <th>16</th>\n",
       "      <td>17</td>\n",
       "      <td>Customer_Service_2</td>\n",
       "      <td>ABC_Corp.Call_Center.Call_Center_Operations</td>\n",
       "      <td>North_America.Service_Excellence</td>\n",
       "      <td>REGION_1</td>\n",
       "      <td>CAT_A</td>\n",
       "      <td>BLUE_TEAM</td>\n",
       "      <td>CAT_A</td>\n",
       "      <td>BLUE_TEAM</td>\n",
       "    </tr>\n",
       "    <tr>\n",
       "      <th>17</th>\n",
       "      <td>18</td>\n",
       "      <td>Legal_2</td>\n",
       "      <td>ABC_Corp.Legal_Dept.Compliance</td>\n",
       "      <td>Europe.Compliance_Program</td>\n",
       "      <td>REGION_1</td>\n",
       "      <td>CAT_B</td>\n",
       "      <td>RED_TEAM</td>\n",
       "      <td>CAT_C</td>\n",
       "      <td>GREEN_TEAM</td>\n",
       "    </tr>\n",
       "    <tr>\n",
       "      <th>18</th>\n",
       "      <td>19</td>\n",
       "      <td>Operations_2</td>\n",
       "      <td>ABC_Corp.Operations_Office.Supplier_Management</td>\n",
       "      <td>Asia.Supply_Chain_Management</td>\n",
       "      <td>REGION_3</td>\n",
       "      <td>CAT_B</td>\n",
       "      <td>RED_TEAM</td>\n",
       "      <td>CAT_B</td>\n",
       "      <td>RED_TEAM</td>\n",
       "    </tr>\n",
       "    <tr>\n",
       "      <th>19</th>\n",
       "      <td>20</td>\n",
       "      <td>Logistics_2</td>\n",
       "      <td>ABC_Corp.Warehouse.Warehouse_Management</td>\n",
       "      <td>South_America.Logistics_Optimization</td>\n",
       "      <td>REGION_2</td>\n",
       "      <td>CAT_C</td>\n",
       "      <td>RED_TEAM</td>\n",
       "      <td>CAT_C</td>\n",
       "      <td>GREEN_TEAM</td>\n",
       "    </tr>\n",
       "    <tr>\n",
       "      <th>20</th>\n",
       "      <td>21</td>\n",
       "      <td>Human_Resources_3</td>\n",
       "      <td>ABC_Corp.Headquarters.Employee_Onboarding</td>\n",
       "      <td>North_America.Onboarding_Program</td>\n",
       "      <td>REGION_1</td>\n",
       "      <td>CAT_B</td>\n",
       "      <td>RED_TEAM</td>\n",
       "      <td>CAT_C</td>\n",
       "      <td>GREEN_TEAM</td>\n",
       "    </tr>\n",
       "    <tr>\n",
       "      <th>21</th>\n",
       "      <td>22</td>\n",
       "      <td>Finance_3</td>\n",
       "      <td>ABC_Corp.Headquarters.Accounts_Payable</td>\n",
       "      <td>Europe.Financial_Management</td>\n",
       "      <td>REGION_1</td>\n",
       "      <td>CAT_B</td>\n",
       "      <td>RED_TEAM</td>\n",
       "      <td>CAT_A</td>\n",
       "      <td>BLUE_TEAM</td>\n",
       "    </tr>\n",
       "  </tbody>\n",
       "</table>\n",
       "</div>"
      ]
     },
     "execution_count": 71,
     "metadata": {},
     "output_type": "execute_result"
    }
   ],
   "execution_count": 71
  },
  {
   "metadata": {
    "ExecuteTime": {
     "end_time": "2024-10-16T18:35:12.324337Z",
     "start_time": "2024-10-16T18:35:12.255176Z"
    }
   },
   "cell_type": "code",
   "source": "joblib.dump(pipes_model, 'hierarchy_prediction_model.pkl') #serialize model weights for future use",
   "id": "e61caee55387a417",
   "outputs": [
    {
     "data": {
      "text/plain": [
       "['hierarchy_prediction_model.pkl']"
      ]
     },
     "execution_count": 72,
     "metadata": {},
     "output_type": "execute_result"
    }
   ],
   "execution_count": 72
  },
  {
   "metadata": {},
   "cell_type": "markdown",
   "source": [
    "Huzzah! Model saved!\n",
    "\n",
    "Let's try reusing it. After all, your office wants you to map these departments every week. You're going to need to rerun your model successfully."
   ],
   "id": "87126ff9b2372a"
  },
  {
   "metadata": {},
   "cell_type": "markdown",
   "source": "### Loading and Running with New Data\n",
   "id": "49c905a8df984266"
  },
  {
   "metadata": {
    "ExecuteTime": {
     "end_time": "2024-10-16T18:35:21.036444Z",
     "start_time": "2024-10-16T18:35:20.982514Z"
    }
   },
   "cell_type": "code",
   "source": [
    "# Now let's try it on some new (also dummy) data and export the results in a usable form, aka, Excel\n",
    "\n",
    "#Loading the model back in to run on new data\n",
    "\n",
    "loaded_model = joblib.load('hierarchy_prediction_model.pkl')\n",
    "\n",
    "new_data = pd.DataFrame({\n",
    "    'DEPT_NUM': ['112', '113', '114'],\n",
    "    'DEPT_NAME': ['Legal_12','Marketing_12','Operations_12'],\n",
    "    'COMP_OFFICE_SERVICE': ['ABC_Corp.Legal_Dept.Compliance', 'ABC_Corp.Marketing_Office.Advertising', 'ABC_Corp.Operations_Office.Supplier_Management'],\n",
    "    'REG_PROGRAM': ['North_America.Onboarding_Program','Asia.Tech_Support_Program','Asia.Tech_Support_Program'],\n",
    "    'REGION': ['REGION_1', 'REGION_3', 'REGION_3']\n",
    "})\n",
    "\n",
    "new_data.head()"
   ],
   "id": "8b96f37a6ba55fa",
   "outputs": [
    {
     "data": {
      "text/plain": [
       "  DEPT_NUM      DEPT_NAME                             COMP_OFFICE_SERVICE  \\\n",
       "0      112       Legal_12                  ABC_Corp.Legal_Dept.Compliance   \n",
       "1      113   Marketing_12           ABC_Corp.Marketing_Office.Advertising   \n",
       "2      114  Operations_12  ABC_Corp.Operations_Office.Supplier_Management   \n",
       "\n",
       "                        REG_PROGRAM    REGION  \n",
       "0  North_America.Onboarding_Program  REGION_1  \n",
       "1         Asia.Tech_Support_Program  REGION_3  \n",
       "2         Asia.Tech_Support_Program  REGION_3  "
      ],
      "text/html": [
       "<div>\n",
       "<style scoped>\n",
       "    .dataframe tbody tr th:only-of-type {\n",
       "        vertical-align: middle;\n",
       "    }\n",
       "\n",
       "    .dataframe tbody tr th {\n",
       "        vertical-align: top;\n",
       "    }\n",
       "\n",
       "    .dataframe thead th {\n",
       "        text-align: right;\n",
       "    }\n",
       "</style>\n",
       "<table border=\"1\" class=\"dataframe\">\n",
       "  <thead>\n",
       "    <tr style=\"text-align: right;\">\n",
       "      <th></th>\n",
       "      <th>DEPT_NUM</th>\n",
       "      <th>DEPT_NAME</th>\n",
       "      <th>COMP_OFFICE_SERVICE</th>\n",
       "      <th>REG_PROGRAM</th>\n",
       "      <th>REGION</th>\n",
       "    </tr>\n",
       "  </thead>\n",
       "  <tbody>\n",
       "    <tr>\n",
       "      <th>0</th>\n",
       "      <td>112</td>\n",
       "      <td>Legal_12</td>\n",
       "      <td>ABC_Corp.Legal_Dept.Compliance</td>\n",
       "      <td>North_America.Onboarding_Program</td>\n",
       "      <td>REGION_1</td>\n",
       "    </tr>\n",
       "    <tr>\n",
       "      <th>1</th>\n",
       "      <td>113</td>\n",
       "      <td>Marketing_12</td>\n",
       "      <td>ABC_Corp.Marketing_Office.Advertising</td>\n",
       "      <td>Asia.Tech_Support_Program</td>\n",
       "      <td>REGION_3</td>\n",
       "    </tr>\n",
       "    <tr>\n",
       "      <th>2</th>\n",
       "      <td>114</td>\n",
       "      <td>Operations_12</td>\n",
       "      <td>ABC_Corp.Operations_Office.Supplier_Management</td>\n",
       "      <td>Asia.Tech_Support_Program</td>\n",
       "      <td>REGION_3</td>\n",
       "    </tr>\n",
       "  </tbody>\n",
       "</table>\n",
       "</div>"
      ]
     },
     "execution_count": 73,
     "metadata": {},
     "output_type": "execute_result"
    }
   ],
   "execution_count": 73
  },
  {
   "metadata": {
    "ExecuteTime": {
     "end_time": "2024-10-16T18:35:34.088304Z",
     "start_time": "2024-10-16T18:35:34.067801Z"
    }
   },
   "cell_type": "code",
   "source": [
    "# Predict using the loaded model\n",
    "predictions = loaded_model.predict_pipes(new_data)\n",
    "\n",
    "# Print predictions\n",
    "print(predictions)"
   ],
   "id": "47735744f5642812",
   "outputs": [
    {
     "name": "stdout",
     "output_type": "stream",
     "text": [
      "  AUDIT_CAT      TEAM\n",
      "0     CAT_B  RED_TEAM\n",
      "1     CAT_A  RED_TEAM\n",
      "2     CAT_B  RED_TEAM\n"
     ]
    }
   ],
   "execution_count": 74
  },
  {
   "metadata": {},
   "cell_type": "markdown",
   "source": "Okay! We've got our predictions. Now let's join them back to our new data.",
   "id": "ab78647de66de800"
  },
  {
   "metadata": {},
   "cell_type": "markdown",
   "source": "### Save and Export",
   "id": "9b65a19b991e62e7"
  },
  {
   "metadata": {
    "ExecuteTime": {
     "end_time": "2024-10-16T18:38:28.819869Z",
     "start_time": "2024-10-16T18:38:28.808683Z"
    }
   },
   "cell_type": "code",
   "source": [
    "results = loaded_model.rejoin(new_data,predictions)\n",
    "print(results)"
   ],
   "id": "fd77fdc52c45deb0",
   "outputs": [
    {
     "name": "stdout",
     "output_type": "stream",
     "text": [
      "  DEPT_NUM      DEPT_NAME                             COMP_OFFICE_SERVICE  \\\n",
      "0      112       Legal_12                  ABC_Corp.Legal_Dept.Compliance   \n",
      "1      113   Marketing_12           ABC_Corp.Marketing_Office.Advertising   \n",
      "2      114  Operations_12  ABC_Corp.Operations_Office.Supplier_Management   \n",
      "\n",
      "                        REG_PROGRAM    REGION AUDIT_CAT      TEAM  \n",
      "0  North_America.Onboarding_Program  REGION_1     CAT_B  RED_TEAM  \n",
      "1         Asia.Tech_Support_Program  REGION_3     CAT_A  RED_TEAM  \n",
      "2         Asia.Tech_Support_Program  REGION_3     CAT_B  RED_TEAM  \n"
     ]
    }
   ],
   "execution_count": 76
  },
  {
   "metadata": {},
   "cell_type": "code",
   "outputs": [],
   "execution_count": null,
   "source": "results.to_excel(\"results.xlsx\") #exporting our results to Excel",
   "id": "80fbfca7c1dd0e1b"
  },
  {
   "metadata": {},
   "cell_type": "markdown",
   "source": [
    "I hope you found this exercise useful! It was a very simple dummy data set, but the mechanism can work for more complicated ones with more detailed logical rules. \n",
    "\n",
    "Please feel free to find me on LinkedIn www.linkedin.com/in/morgana-kinlan !\n",
    "\n",
    "Happy coding :)\n"
   ],
   "id": "7f2d50882f7ee8b"
  },
  {
   "metadata": {},
   "cell_type": "markdown",
   "source": "",
   "id": "3767ce37e8dd913a"
  }
 ],
 "metadata": {
  "kernelspec": {
   "display_name": "Python 3",
   "language": "python",
   "name": "python3"
  },
  "language_info": {
   "codemirror_mode": {
    "name": "ipython",
    "version": 2
   },
   "file_extension": ".py",
   "mimetype": "text/x-python",
   "name": "python",
   "nbconvert_exporter": "python",
   "pygments_lexer": "ipython2",
   "version": "2.7.6"
  }
 },
 "nbformat": 4,
 "nbformat_minor": 5
}
